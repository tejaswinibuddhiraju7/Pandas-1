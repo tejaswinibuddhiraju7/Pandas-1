{
 "cells": [
  {
   "cell_type": "markdown",
   "metadata": {},
   "source": [
    "How-to-count-distance-to-the-previous-zero\n",
    "For each value, count the difference of the distance from the previous zero (or the start\n",
    "of the Series, whichever is closer) and if there are no previous zeros,print the position\n",
    "Consider a DataFrame df where there is an integer column {'X':[7, 2, 0, 3, 4, 2, 5, 0, 3, 4]}\n",
    "The values should therefore be [1, 2, 0, 1, 2, 3, 4, 0, 1, 2]. Make this a new column 'Y'.\n",
    "import pandas as pd\n",
    "df = pd.DataFrame({'X': [7, 2, 0, 3, 4, 2, 5, 0, 3, 4]})"
   ]
  },
  {
   "cell_type": "code",
   "execution_count": 23,
   "metadata": {},
   "outputs": [
    {
     "name": "stdout",
     "output_type": "stream",
     "text": [
      "   X  Y\n",
      "0  7  1\n",
      "1  2  2\n",
      "2  0  0\n",
      "3  3  1\n",
      "4  4  2\n",
      "5  2  3\n",
      "6  5  4\n",
      "7  0  0\n",
      "8  3  1\n",
      "9  4  2\n"
     ]
    }
   ],
   "source": [
    "import numpy as np\n",
    "import pandas as pd\n",
    "df = pd.DataFrame({'X': [7, 2, 0, 3, 4, 2, 5, 0, 3, 4]}) # create a dataframe\n",
    "item = 0\n",
    "values = [] # Create an empty list to store the values of dataframe column Y\n",
    "for e in df['X']: # Traverse through each value of dataframe column X\n",
    "    if e != 0:\n",
    "        item += 1 # append 1 if element is not zero\n",
    "    else:\n",
    "        item = 0  # assign the element as zero if it is zero\n",
    "    values.append(item) # Append item to a list of values for column Y\n",
    "df['Y']=values # Assing these list of values to df['Y']\n",
    "\n",
    "print(df)"
   ]
  },
  {
   "cell_type": "markdown",
   "metadata": {},
   "source": [
    "Create a DatetimeIndex that contains each business day of 2015 and use it to index a\n",
    "Series of random numbers."
   ]
  },
  {
   "cell_type": "code",
   "execution_count": 36,
   "metadata": {},
   "outputs": [
    {
     "data": {
      "text/plain": [
       "2015-01-01    50\n",
       "2015-01-02    70\n",
       "2015-01-05    68\n",
       "2015-01-06    23\n",
       "2015-01-07    30\n",
       "2015-01-08    78\n",
       "2015-01-09    82\n",
       "2015-01-12    81\n",
       "2015-01-13    22\n",
       "2015-01-14     5\n",
       "Freq: B, dtype: int32"
      ]
     },
     "execution_count": 36,
     "metadata": {},
     "output_type": "execute_result"
    }
   ],
   "source": [
    "bindex = pd.bdate_range(start='2015-01-01', end='2015-12-31') # Creating a datetime Index for each business day in 2015\n",
    "s = pd.Series(np.random.randint(1,100,size=len(bindex)), index=bindex) # Create a series with random integers \n",
    "s.head(10) # Print the head of series"
   ]
  },
  {
   "cell_type": "markdown",
   "metadata": {},
   "source": [
    "Find the sum of the values in s for every Wednesday"
   ]
  },
  {
   "cell_type": "code",
   "execution_count": 40,
   "metadata": {},
   "outputs": [
    {
     "data": {
      "text/plain": [
       "2543"
      ]
     },
     "execution_count": 40,
     "metadata": {},
     "output_type": "execute_result"
    }
   ],
   "source": [
    "np.sum(s[bindex.weekday == 2]) # weekday = 0(Monday),1(Tuesday),2(Wednesday),...6(Sunday) and use np.sum to add those values"
   ]
  },
  {
   "cell_type": "markdown",
   "metadata": {},
   "source": [
    "Average For each calendar month"
   ]
  },
  {
   "cell_type": "code",
   "execution_count": 53,
   "metadata": {},
   "outputs": [
    {
     "data": {
      "text/plain": [
       "2015-01-31    46.409091\n",
       "2015-02-28    40.950000\n",
       "2015-03-31    50.454545\n",
       "2015-04-30    55.772727\n",
       "2015-05-31    46.523810\n",
       "2015-06-30    53.590909\n",
       "2015-07-31    51.347826\n",
       "2015-08-31    40.428571\n",
       "2015-09-30    57.000000\n",
       "2015-10-31    45.772727\n",
       "2015-11-30    59.333333\n",
       "2015-12-31    52.913043\n",
       "Freq: M, dtype: float64"
      ]
     },
     "execution_count": 53,
     "metadata": {},
     "output_type": "execute_result"
    }
   ],
   "source": [
    "s.resample('M').mean() # Average for each calendar month"
   ]
  },
  {
   "cell_type": "markdown",
   "metadata": {},
   "source": [
    "For each group of four consecutive calendar months in s, find the date on which the\n",
    "highest value occurred."
   ]
  },
  {
   "cell_type": "code",
   "execution_count": 55,
   "metadata": {},
   "outputs": [
    {
     "data": {
      "text/plain": [
       "2015-01-31   2015-01-29\n",
       "2015-05-31   2015-04-06\n",
       "2015-09-30   2015-06-16\n",
       "2016-01-31   2015-12-11\n",
       "Freq: 4M, dtype: datetime64[ns]"
      ]
     },
     "execution_count": 55,
     "metadata": {},
     "output_type": "execute_result"
    }
   ],
   "source": [
    "s.groupby(pd.TimeGrouper('4M')).idxmax() # Groupby series with four months and find the index with max value"
   ]
  },
  {
   "cell_type": "code",
   "execution_count": null,
   "metadata": {
    "collapsed": true
   },
   "outputs": [],
   "source": []
  }
 ],
 "metadata": {
  "kernelspec": {
   "display_name": "Python 3",
   "language": "python",
   "name": "python3"
  },
  "language_info": {
   "codemirror_mode": {
    "name": "ipython",
    "version": 3
   },
   "file_extension": ".py",
   "mimetype": "text/x-python",
   "name": "python",
   "nbconvert_exporter": "python",
   "pygments_lexer": "ipython3",
   "version": "3.6.2"
  }
 },
 "nbformat": 4,
 "nbformat_minor": 2
}
